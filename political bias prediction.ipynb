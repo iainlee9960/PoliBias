{
 "cells": [
  {
   "cell_type": "code",
   "execution_count": 43,
   "metadata": {
    "collapsed": true,
    "jupyter": {
     "outputs_hidden": true
    }
   },
   "outputs": [
    {
     "name": "stdout",
     "output_type": "stream",
     "text": [
      "Female leads in family films equally represented for the first time - CNN Edition Search Edition Follow CNN Entertainment Family films had as many women in lead roles as men for the first time, new study finds By , CNN Updated 12:53 PM ET, Thu March 5, 2020 Chat with us in Facebook Messenger. Find out what's happening in the world as it unfolds. Brie Larson starred in Marvel Studios' \"Captian Marvel.\" The film, in which Larson played Carol Danvers, was one of the top-grossing films of 2019. (CNN) Last year was a historic one for gender representation in family films. According to a new study from The Geena Davis Institute on Gender and Media, 2019 saw just as many female lead characters in family films as male lead characters. In 2007, just 24% of family films featured female characters in lead roles. Last year, 48% of the 100 top-grossing family movies featured lead female characters. (For the purposes of the annual , a family film was defined as any live-action or animated film that was rated G, PG or PG-13.) \"Media images have a huge impact on how we see ourselves and judge our value,\" Davis told CNN via email. \"When you see someone like yourself reflected, you take in the message: 'There's someone like me, I must belong.' This is why it's vital for children to see -- from the beginning -- fictitious worlds that reflect the real world, which is half female and very diverse.\" This historic parity, she added, means \"girls will be far more likely to see that they are just as important as boys, and that they do half of the interesting, important things.\" Read More \"Boys will take this message in unconsciously too, and thus be more likely to see girls as equals,\" she said. For this year's report, researchers also examined five other areas -- race, LGBTQ+, disability, age (60+) and body size diversity. Among those so-called \"identity groups,\" there were some improvements. 'Abominable' focused on the story of Yi (voiced by Chloe Bennet), a teenager who befriends and goes on an adventure with a yeti. The film grossed over $181 million worldwide, according to Box Office Mojo. The percentage of leads who were people of color, for example, increased from 22% in 2007 to 30% last year. And 8% of last year's family films included a lead character with a disability, up from 1% ten years ago. But Madeline Di Nonno, CEO of the Geena Davis Institute, feels there's room for further improvements. \"Sexualization and age continue to be major variables that need progress. Our study shows that female characters are six times more likely to be in sexually revealing clothing, a statistic that has been very consistent over decades of research,\" she said. \"We see the same glacial movement when it comes to age, with most female characters being under 40, and little to no females at 50 or over; yet male characters are plentiful at being depicted in their 40s and older.\" Other findings are similarly striking, like the fact that only 8.3% of characters are of what the study calls \"large body type\" and portrayals often reinforced damaging stereotypes. Genna Davis launched the Institute on Gender in Media in 2004. Large characters were less likely to be portrayed as smart and about 7.4% were verbally shamed in the movies in which they appeared, the study found. \"There's still much work to be done, but we are so encouraged by the progress being made,\" Davis said. She hopes to see increases in the number of leads from \"underrepresented segments of society\" and \"continued improvement in the quality of the depictions.\" \"Creating more diverse characters means being more relevant to a larger segment of the population... and that makes your project literally more colorful,\" she said. Search Follow CNN Entertainment © 2020 Cable News Network. All Rights Reserved. CNN Sans ™ & © 2016 Cable News Network.\n"
     ]
    }
   ],
   "source": [
    "import requests\n",
    "from bs4 import BeautifulSoup\n",
    "\n",
    "urls = ['https://www.foxnews.com/politics/trump-north-carolina-governor-convention-guarantee',\n",
    "    'https://www.politico.com/news/2020/05/26/trump-campaign-lewandowski-bossie-283089',\n",
    "    'https://www.cs.jhu.edu/faculty/vladimir-braverman/',\n",
    "    'https://www.cnn.com/2020/03/05/entertainment/female-leads-family-films-2019/index.html']\n",
    "res = requests.get(urls[3])\n",
    "html_page = res.content\n",
    "soup = BeautifulSoup(html_page, 'html.parser')\n",
    "text = soup.find_all(text=True)\n",
    "#print(set([t.parent.name for t in text]))\n",
    "\n",
    "string_output = ''\n",
    "blacklist = [\n",
    "     '[document]',\n",
    "     'a',\n",
    "     'body',\n",
    "     #'cite',\n",
    "     #'div',\n",
    "     #'h1',\n",
    "     'h2',\n",
    "     'h3',\n",
    "     'h4',\n",
    "     'li',\n",
    "     'link',\n",
    "     #'p',\n",
    "     'script',\n",
    "     #'span',\n",
    "     'style',\n",
    "     #'title'\n",
    "]\n",
    "\n",
    "for t in text:\n",
    "\tif t.parent.name not in blacklist:\n",
    "\t\tstring_output += '{} '.format(t)\n",
    "\n",
    "#formatting        \n",
    "string_output = string_output.replace(\"\\n\",\"\")\n",
    "string_output = \" \".join(string_output.split())\n",
    "print(string_output)"
   ]
  },
  {
   "cell_type": "code",
   "execution_count": 44,
   "metadata": {},
   "outputs": [],
   "source": [
    "import keras\n",
    "from keras import models\n",
    "from keras.preprocessing.text import Tokenizer\n",
    "from keras import preprocessing\n",
    "import numpy as np"
   ]
  },
  {
   "cell_type": "code",
   "execution_count": 45,
   "metadata": {},
   "outputs": [
    {
     "name": "stdout",
     "output_type": "stream",
     "text": [
      "Model: \"sequential_4\"\n",
      "_________________________________________________________________\n",
      "Layer (type)                 Output Shape              Param #   \n",
      "=================================================================\n",
      "embedding_4 (Embedding)      (None, 500, 100)          5000000   \n",
      "_________________________________________________________________\n",
      "lstm_1 (LSTM)                (None, 32)                17024     \n",
      "_________________________________________________________________\n",
      "dense_3 (Dense)              (None, 1)                 33        \n",
      "=================================================================\n",
      "Total params: 5,017,057\n",
      "Trainable params: 17,057\n",
      "Non-trainable params: 5,000,000\n",
      "_________________________________________________________________\n"
     ]
    }
   ],
   "source": [
    "political_model = models.load_model('/home/iain/Deep learning/CongAppChallenge/models/PoliticalBias.h5')\n",
    "political_model.summary()"
   ]
  },
  {
   "cell_type": "code",
   "execution_count": 46,
   "metadata": {},
   "outputs": [],
   "source": [
    "def preprocessData(s):\n",
    "    string = [s]\n",
    "    max_features = 50000\n",
    "    max_length = 500\n",
    "    tokenizer = Tokenizer(num_words=50000)\n",
    "    tokenizer.fit_on_texts(string)\n",
    "    tokens = tokenizer.texts_to_sequences(string)\n",
    "    return preprocessing.sequence.pad_sequences(tokens, max_length)\n",
    "\n",
    "data = np.asarray(preprocessData(string_output)).astype('float32')\n",
    "#print(data.shape)"
   ]
  },
  {
   "cell_type": "code",
   "execution_count": 47,
   "metadata": {},
   "outputs": [
    {
     "name": "stdout",
     "output_type": "stream",
     "text": [
      "0.5120449 moderate\n"
     ]
    }
   ],
   "source": [
    "prediction = political_model.predict(data)[0][0]\n",
    "prediction_str = ''\n",
    "if prediction>=0 and prediction<=.2:\n",
    "    prediction_str = 'super conservative'\n",
    "elif prediction>.2 and prediction<.4:\n",
    "    prediction_str = 'moderately conservative'\n",
    "elif prediction>=.4 and prediction<=.6:\n",
    "    prediction_str = 'moderate'\n",
    "elif prediction>.6 and prediction<.8:\n",
    "    prediction_str = 'moderately liberal'\n",
    "else:\n",
    "    prediction_str ='super liberal'\n",
    "print(prediction, prediction_str)"
   ]
  },
  {
   "cell_type": "code",
   "execution_count": null,
   "metadata": {},
   "outputs": [],
   "source": []
  }
 ],
 "metadata": {
  "kernelspec": {
   "display_name": "Python 3",
   "language": "python",
   "name": "python3"
  },
  "language_info": {
   "codemirror_mode": {
    "name": "ipython",
    "version": 3
   },
   "file_extension": ".py",
   "mimetype": "text/x-python",
   "name": "python",
   "nbconvert_exporter": "python",
   "pygments_lexer": "ipython3",
   "version": "3.7.6"
  }
 },
 "nbformat": 4,
 "nbformat_minor": 4
}
