{
 "cells": [
  {
   "cell_type": "code",
   "execution_count": 62,
   "metadata": {},
   "outputs": [],
   "source": [
    "import requests\n",
    "from bs4 import BeautifulSoup\n",
    "\n",
    "url = 'https://www.foxnews.com/politics/trump-north-carolina-governor-convention-guarantee'\n",
    "url = 'https://www.politico.com/news/2020/05/26/trump-campaign-lewandowski-bossie-283089'\n",
    "url = 'https://www.cs.jhu.edu/faculty/vladimir-braverman/'\n",
    "res = requests.get(url)\n",
    "html_page = res.content\n",
    "soup = BeautifulSoup(html_page, 'html.parser')\n",
    "text = soup.find_all(text=True)\n",
    "#print(set([t.parent.name for t in text]))"
   ]
  },
  {
   "cell_type": "code",
   "execution_count": 63,
   "metadata": {},
   "outputs": [
    {
     "name": "stdout",
     "output_type": "stream",
     "text": [
      "Department of Computer Science | Vladimir Braverman - Department of Computer Science This site is optimized with the Yoast SEO plugin v14.2 - https://yoast.com/wordpress/plugins/seo/ / Yoast SEO plugin. This site uses the Google Analytics by ExactMetrics plugin v6.0.2 - Using Analytics tracking - https://www.exactmetrics.com/ Note: ExactMetrics is not currently configured on this site. The site owner needs to authenticate with Google Analytics in the ExactMetrics settings panel. No UA code set / Google Analytics by ExactMetrics [if lt IE 9]> <script src=\"//oss.maxcdn.com/libs/html5shiv/3.7.0/html5shiv.js\"></script> <script src=\"//oss.maxcdn.com/libs/respond.js/1.4.2/respond.min.js\"></script> <![endif] Jump to Department & Program Websites Apply Make a Gift Search for: MSE Degree Requirements Part-Time Graduate Studies (Engineering for Professionals) Request More Information (Full-Time Graduate Programs) Faculty Vladimir Braverman Associate Professor Vladimir Braverman research interest includes streaming and sketching algorithms, sub-linear algorithms and their applications to data science, software defined networks, cosmology, and machine learning. He obtained his B.S. and M.S. degrees from Ben-Gurion University of the Negev, Israel, and his Ph.D. degree from University of California, Los Angeles in 2011. He is a member of and a member of Executive Committee of . In 2017, Braverman was the recipient of the National Science Foundation’s CAREER Award. Malone 211 Office 410-516-4975 \"Because of asymptomatic spread of the coronavirus, we're going to need a lot more testing and have public health o… A marketing campaign created for 's Advertising/Integrated Marketing Communications course, addresses harmf… A network of Johns Hopkins faculty, students, and parents coordinated a shipment of PPE from China to Baltimore to… \"A lot of genomics is like a jigsaw puzzle where you're trying to see which pieces fit together,\" says \"We, as Hopkins graduates, are uniquely prepared to confront and overcome the crises we face and to build the world… RT @JohnsHopkins: Co-created by graduate Debanik Purkayastha, Covaid is a volunteer program for neighbors to help neighbors during… RT @NTrayanova: We have a team with great synergy. @julie_shade have been instrumental in developing the conc… RT @JHUMaterials: Faculty including members of and combined forces with parents of students to secure an… “By predicting who’s at risk for developing the worst outcomes, health care professionals will be able to undertake… RT @JohnsHopkins: Tune in live at noon EDT to the latest from @SNFAgoraJHU: RT @HopkinsMedicine: When New York-based hospitals started running out of dialysis fluid for the type of dialysis used in intensive care, a… RT @maeveinspace: Huge congrats to the new grads and a special shout out to my fellow first-generation grads… RT @mselibrary: We are so honored to have shared our libraries with this year's graduating class! Congratulations and best wishes to #JHU20… \"I don't know exactly what the future holds. But I'm ready to embrace all of the challenges and that ambiguity,\" sa… RT @JohnsHopkins: In a surprise appearance at today's Commencement ceremony, Dr. Anthony Fauci of shared words of encouragement with t… RT @EmHogan10: Welcome to the Association 🎉 Post-grad may take you far away from Baltimore or, like me, you might find… RT @JohnsHopkins: At today's Commencement ceremony, our graduates got some special shout-outs from a few alumni you might recogniz… RT @JohnsHopkins: Tune in live to our Virtual Universitywide Commencement Ceremony. Pre-show: 10:45 a.m. EDT Ceremony begins: 1… We're almost at the finish line. Join us at 11 a.m. EDT for the virtual Commencement ceremony!🎓… 🎓🎉🎓🎉🎓🎉 RT @mamnalliance: This week we're hosting Prof Claire Hur of Johns Hopkins for our YouTube virtual seminar. Tu… \"While at Hopkins, I've been trained to collaborate with others, think critically, and troubleshoot,\" says… RT @NTrayanova: We are so thrilled to be working on this new COVID-19 project, a collaboration between and , a… To commemorate the 50th anniversary of the Order of the Engineer, recently inducted into the Orde… RT @JohnsHopkinsSPH: As U.S. states begin reopening following shutdowns to slow the spread of , leading experts from and… RT @JHSocialConcern: Congratulations, seniors! Before the celebrations begin, please take time to fill out the census! 10 questions that ta… RT @JHUBME: Natalia Trayanova (@NTrayanova) and a team of researchers are using machine learning to identify which p… A team of undergraduates in a course is confronting the rising trend of coronavirus-related… RT @ldlhomewood: How are you managing your relationships in this time of social distancing? In today’s , LDE, encou… Check it out: Several teams of are finalists in the Business Competition. Learn m… 160 Malone Hall 3400 North Charles Street Baltimore, MD 21218 410-516-8775 Whiting School of Engineering Johns Hopkins University Privacy Statement Legal © 2020 Johns Hopkins University Back to top SRV: WD2\n"
     ]
    }
   ],
   "source": [
    "output = ''\n",
    "blacklist = [\n",
    "     '[document]',\n",
    "     'a',\n",
    "     'body',\n",
    "     #'cite',\n",
    "     #'div',\n",
    "     #'h1',\n",
    "     'h2',\n",
    "     'h3',\n",
    "     'h4',\n",
    "     'li',\n",
    "     'link',\n",
    "     #'p',\n",
    "     'script',\n",
    "     #'span',\n",
    "     'style',\n",
    "     #'title'\n",
    "]\n",
    "\n",
    "for t in text:\n",
    "\tif t.parent.name not in blacklist:\n",
    "\t\toutput += '{} '.format(t)\n",
    "\n",
    "#formatting        \n",
    "output = output.replace(\"\\n\",\"\")\n",
    "output = \" \".join(output.split())\n",
    "print(output)"
   ]
  },
  {
   "cell_type": "code",
   "execution_count": null,
   "metadata": {},
   "outputs": [],
   "source": [
    "''''[document]',\n",
    "\t'noscript',\n",
    "\t'header',\n",
    "\t'html',\n",
    "\t'meta',\n",
    "\t'head', \n",
    "\t'input',\n",
    "\t'script',\n",
    "    'h1',\n",
    "    'h2',\n",
    "    'link',  \n",
    "    'span',\n",
    "    'style',\n",
    "    'div',\n",
    "    'cite''''"
   ]
  }
 ],
 "metadata": {
  "kernelspec": {
   "display_name": "Python 3",
   "language": "python",
   "name": "python3"
  },
  "language_info": {
   "codemirror_mode": {
    "name": "ipython",
    "version": 3
   },
   "file_extension": ".py",
   "mimetype": "text/x-python",
   "name": "python",
   "nbconvert_exporter": "python",
   "pygments_lexer": "ipython3",
   "version": "3.7.4"
  }
 },
 "nbformat": 4,
 "nbformat_minor": 4
}
